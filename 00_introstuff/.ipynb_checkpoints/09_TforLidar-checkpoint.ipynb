{
 "cells": [
  {
   "cell_type": "code",
   "execution_count": 2,
   "metadata": {},
   "outputs": [],
   "source": [
    "import pandas as pd\n",
    "import matplotlib.pyplot as plt\n",
    "import math\n",
    "import numpy as np\n",
    "from utils import *\n",
    "%load_ext autoreload\n",
    "%autoreload 2"
   ]
  },
  {
   "cell_type": "code",
   "execution_count": 3,
   "metadata": {},
   "outputs": [
    {
     "name": "stdout",
     "output_type": "stream",
     "text": [
      "86.59437086092716\n",
      "84.0\n",
      "[ 1.61963081  1.00844359  0.37527835 -2.0745585  -2.29531622  0.26737562\n",
      "  0.59614849]\n"
     ]
    }
   ],
   "source": [
    "msmts = pd.DataFrame(pd.read_pickle('/home/dlrc1/measurements/Lidar2.pkl'))\n",
    "msmts['lidar2'] = msmts['lidar_data'].apply(lambda x: x[2])\n",
    "# get median / avg\n",
    "print(msmts['lidar2'].mean())\n",
    "print(msmts['lidar2'].median())\n",
    "print(msmts['state_j_pos'][0])"
   ]
  },
  {
   "cell_type": "code",
   "execution_count": 4,
   "metadata": {},
   "outputs": [
    {
     "name": "stdout",
     "output_type": "stream",
     "text": [
      "predicted coordinates [-0.05072651  0.50563972  0.23148868  1.        ]\n",
      "lidar2 19\n",
      "coord_EE [-0.05072651  0.50563972  0.23148868  1.        ]\n",
      "Tjoint [[ 0.53988161  0.77776267 -0.32188986 -0.18738461]\n",
      " [ 0.82344424 -0.56730256  0.0103627   0.39046981]\n",
      " [-0.17454922 -0.27065299 -0.94672041  0.08018284]\n",
      " [ 0.          0.          0.          1.        ]]\n"
     ]
    }
   ],
   "source": [
    "Tjoints = []\n",
    "lidarvalues = []\n",
    "sample_indixes = [10]\n",
    "for i in sample_indixes:\n",
    "    Tproduct, Tlist, Tjoint, coord_EE = get_jointToCoordinates(msmts.iloc[i]['state_j_pos'].tolist(), trueCoordinates=None, untilJoint=5)\n",
    "    lidar2 = msmts.iloc[i]['lidar2']\n",
    "    print('lidar2', lidar2)\n",
    "    print('coord_EE', coord_EE)\n",
    "    print('Tjoint', Tjoint)\n",
    "    lidarvalues.append(lidar2)\n",
    "    Tjoints.append(Tjoint[:,:3])"
   ]
  },
  {
   "cell_type": "code",
   "execution_count": 7,
   "metadata": {},
   "outputs": [
    {
     "name": "stdout",
     "output_type": "stream",
     "text": [
      "(4, 6)\n"
     ]
    }
   ],
   "source": [
    "#for i in range(len(lidarvalues)):\n",
    "A = np.concatenate((lidarvalues[0]*Tjoints[0], Tjoints[0]), axis=1)\n",
    "print(A.shape)"
   ]
  },
  {
   "cell_type": "code",
   "execution_count": 22,
   "metadata": {},
   "outputs": [
    {
     "name": "stdout",
     "output_type": "stream",
     "text": [
      "0.018954999999999996\n",
      "0.003015456018581601\n"
     ]
    }
   ],
   "source": [
    "lidardata = msmts['lidar2'] / 1000\n",
    "\n",
    "print(np.mean(lidardata[:200]))\n",
    "print(np.std(lidardata[:200]))\n"
   ]
  },
  {
   "cell_type": "code",
   "execution_count": 8,
   "metadata": {},
   "outputs": [
    {
     "name": "stdout",
     "output_type": "stream",
     "text": [
      "Rank: 3\n",
      "residuals: []\n",
      "Translation parameters: [21.19851483 -0.84609225 -3.66653852  1.11571131 -0.04453117 -0.19297571]\n"
     ]
    },
    {
     "name": "stderr",
     "output_type": "stream",
     "text": [
      "/home/dlrc1/.virtualenvs/dlrc/lib/python3.6/site-packages/ipykernel_launcher.py:1: FutureWarning: `rcond` parameter will change to the default of machine precision times ``max(M, N)`` where M and N are the input matrix dimensions.\n",
      "To use the future default and silence this warning we advise to pass `rcond=None`, to keep using the old, explicitly pass `rcond=-1`.\n",
      "  \"\"\"Entry point for launching an IPython kernel.\n"
     ]
    }
   ],
   "source": [
    "x, residuals, rank, singval = np.linalg.lstsq(A, [228, 341, 0, 1])\n",
    "# Rank: 3\n",
    "# residuals: []\n",
    "# Translation parameters: [ 1.80007799e-03 -1.35726577e-06 -5.17631619e-04  8.21953418e-06\n",
    "#  -6.19756059e-09 -2.36361470e-06]\n",
    "\n",
    "print(f'Rank: {rank}')\n",
    "#print(f'Singular values: {singval}')\n",
    "print(f'residuals: {residuals}')\n",
    "print(f'Translation parameters: {x[:6]}')\n",
    "\n",
    "#p.linalg.lstsq(A, [.228, .341, 0, 1])"
   ]
  },
  {
   "cell_type": "code",
   "execution_count": null,
   "metadata": {},
   "outputs": [],
   "source": []
  },
  {
   "cell_type": "code",
   "execution_count": null,
   "metadata": {},
   "outputs": [],
   "source": []
  }
 ],
 "metadata": {
  "kernelspec": {
   "display_name": "Python 3",
   "language": "python",
   "name": "python3"
  }
 },
 "nbformat": 4,
 "nbformat_minor": 2
}
